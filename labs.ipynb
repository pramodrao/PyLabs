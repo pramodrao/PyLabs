{
 "cells": [
  {
   "cell_type": "code",
   "execution_count": null,
   "metadata": {
    "collapsed": true
   },
   "outputs": [],
   "source": [
    "import IntSet as intSet\n",
    "import Person as p\n",
    "import datetime\n",
    "\n",
    "\n",
    "obj = intSet.IntSet()\n",
    "print(type(intSet.IntSet), type(intSet.IntSet.insert))\n",
    "\n",
    "\n",
    "pramod = p.Person('Pramod Rao')\n",
    "pramod.set_birthdate(datetime.date(1980, 9, 16))\n",
    "\n",
    "ravi = p.Person('Ravikumar Vishwakarma')\n",
    "ravi.set_birthdate(datetime.date(1985, 10, 11))\n",
    "\n",
    "print(pramod.get_age(False), '\\t', ravi.get_age(False))\n",
    "\n",
    "namratha = p.Person('Namratha Acharya')\n",
    "namratha.set_birthdate(datetime.date(1985, 8, 25))\n",
    "\n",
    "prasad = p.Person('Prasad Rao')\n",
    "prasad.set_birthdate(datetime.date(1977, 1, 11))\n",
    "\n",
    "friends = [pramod, namratha, ravi, prasad]\n",
    "for person in friends:\n",
    "    print(person)\n",
    "\n",
    "friends.sort()\n",
    "for person in friends:\n",
    "    print(person)\n"
   ]
  }
 ],
 "metadata": {
  "kernelspec": {
   "display_name": "Python 2",
   "language": "python",
   "name": "python2"
  },
  "language_info": {
   "codemirror_mode": {
    "name": "ipython",
    "version": 2
   },
   "file_extension": ".py",
   "mimetype": "text/x-python",
   "name": "python",
   "nbconvert_exporter": "python",
   "pygments_lexer": "ipython2",
   "version": "2.7.6"
  }
 },
 "nbformat": 4,
 "nbformat_minor": 0
}
