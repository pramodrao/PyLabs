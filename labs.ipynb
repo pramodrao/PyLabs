{
 "cells": [
  {
   "cell_type": "code",
   "execution_count": null,
   "metadata": {
    "collapsed": true
   },
   "outputs": [],
   "source": [
    "import IntSet as intSet\n",
    "from Student import Student\n",
    "from Teacher import Teacher\n",
    "import datetime\n",
    "import BinarySearch as bSearch\n",
    "import Sorter as sorter\n",
    "import Plots as plots\n",
    "\n",
    "\n",
    "obj = intSet.IntSet()\n",
    "print(type(intSet.IntSet), type(intSet.IntSet.insert))\n",
    "\n",
    "\n",
    "studentA = Student('Student A')\n",
    "studentA.set_birthdate(datetime.date(2008, 9, 16))\n",
    "studentA.set_standard(6)\n",
    "\n",
    "studentB = Student('Student B')\n",
    "studentB.set_birthdate(datetime.date(2008, 10, 11))\n",
    "studentA.set_standard(6)\n",
    "\n",
    "print(studentA.get_age(False), '\\t', studentB.get_age(False))\n",
    "\n",
    "teacherA = Teacher('Teacher A')\n",
    "teacherA.set_birthdate(datetime.date(1985, 8, 25))\n",
    "\n",
    "teacherB = Teacher('Teacher B')\n",
    "teacherB.set_birthdate(datetime.date(1977, 1, 11))\n",
    "\n",
    "teachers = [teacherA, teacherB]\n",
    "students = [studentA, studentB]\n",
    "\n",
    "test_list = [10, 4, 23, 67, 24, 32]\n",
    "# s = bSearch.BinarySearch(test_list)\n",
    "# print(s.search_binary(23))\n",
    "\n",
    "print('Before:', *test_list)\n",
    "sorter.Sorter.run_selection_sort(test_list)\n",
    "print('After:', *test_list)\n",
    "\n",
    "\n",
    "test_list = [10, 4, 23, 67, 24, 32]\n",
    "\n",
    "print('Before:', *test_list)\n",
    "sorted_list = sorter.Sorter.run_merge_sort(test_list)\n",
    "print('After:', *sorted_list)\n",
    "\n",
    "%matplotlib inline\n",
    "plots.plot_45deg_line()\n",
    "\n",
    "plots.plot_sine()"
   ]
  }
 ],
 "metadata": {
  "kernelspec": {
   "display_name": "Python 2",
   "language": "python",
   "name": "python2"
  },
  "language_info": {
   "codemirror_mode": {
    "name": "ipython",
    "version": 2
   },
   "file_extension": ".py",
   "mimetype": "text/x-python",
   "name": "python",
   "nbconvert_exporter": "python",
   "pygments_lexer": "ipython2",
   "version": "2.7.6"
  }
 },
 "nbformat": 4,
 "nbformat_minor": 0
}
